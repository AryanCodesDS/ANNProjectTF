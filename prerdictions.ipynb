{
 "cells": [
  {
   "cell_type": "code",
   "execution_count": 58,
   "metadata": {},
   "outputs": [],
   "source": [
    "#importing the libraries\n",
    "import pandas as pd\n",
    "import numpy as np\n",
    "from sklearn.model_selection import train_test_split\n",
    "from sklearn.preprocessing import StandardScaler,LabelEncoder\n",
    "import pickle as pkl\n",
    "from tensorflow.keras.models import load_model\n",
    "import dill"
   ]
  },
  {
   "cell_type": "code",
   "execution_count": 59,
   "metadata": {},
   "outputs": [
    {
     "name": "stderr",
     "output_type": "stream",
     "text": [
      "WARNING:absl:Compiled the loaded model, but the compiled metrics have yet to be built. `model.compile_metrics` will be empty until you train or evaluate the model.\n"
     ]
    }
   ],
   "source": [
    "#loading all models\n",
    "with open(\"ohe.pkl\",\"rb\") as file:\n",
    "    ohe = pkl.load(file)\n",
    "with open(\"sc.pkl\",\"rb\") as file:\n",
    "    sc = pkl.load(file)\n",
    "with open(\"gender_encode.dill\",\"rb\") as file:\n",
    "    ge = dill.load(file)\n",
    "\n",
    "model = load_model(\"ann.h5\")\n"
   ]
  },
  {
   "cell_type": "code",
   "execution_count": 60,
   "metadata": {},
   "outputs": [
    {
     "name": "stderr",
     "output_type": "stream",
     "text": [
      "c:\\Users\\rashm\\Downloads\\NLP_KN\\ANNProject1\\myenv\\Lib\\site-packages\\sklearn\\base.py:493: UserWarning: X does not have valid feature names, but StandardScaler was fitted with feature names\n",
      "  warnings.warn(\n"
     ]
    },
    {
     "data": {
      "text/plain": [
       "array([[-6.71184117,  0.74739332, -3.70805965, -1.96062785, -1.21572159,\n",
       "        -1.25135966, -0.14326192,  0.90618366, -1.74108718,  0.95680782,\n",
       "        -1.89456703, -1.90281812]])"
      ]
     },
     "execution_count": 60,
     "metadata": {},
     "output_type": "execute_result"
    }
   ],
   "source": [
    "#example data point\n",
    "idata = {\n",
    "   'CreditScore':600,\n",
    "   'Geography':'France',\n",
    "   'Gender':'Male',\n",
    "   'Age':40,\n",
    "   'Tenure':3,\n",
    "   'Balance':60000 ,\n",
    "   'NumOfProducts':2 ,\n",
    "   'HasCrCard':1,\n",
    "   'IsActiveMember':1,\n",
    "   'EstimatedSalary':50000\n",
    "}\n",
    "\n",
    "df1 = pd.DataFrame([idata.values()], columns=idata.keys())\n",
    "df1.head()\n",
    "\n",
    "def preprocess(id):\n",
    "    id[\"Gender\"] = ge(id)\n",
    "    id1  = pd.DataFrame(ohe.transform(id[\"Geography\"].values.reshape(-1,1)).toarray(),columns=ohe.get_feature_names_out(['Geography']))\n",
    "    id.drop(\"Geography\",inplace=True,axis=1)\n",
    "    id = pd.concat([id,id1],axis=1)\n",
    "    id = sc.transform(sc.transform(id))\n",
    "    return id\n",
    "\n",
    "df1 = preprocess(df1)\n",
    "df1"
   ]
  },
  {
   "cell_type": "code",
   "execution_count": 61,
   "metadata": {},
   "outputs": [
    {
     "data": {
      "text/plain": [
       "dict_keys(['CreditScore', 'Geography', 'Gender', 'Age', 'Tenure', 'Balance', 'NumOfProducts', 'HasCrCard', 'IsActiveMember', 'EstimatedSalary'])"
      ]
     },
     "execution_count": 61,
     "metadata": {},
     "output_type": "execute_result"
    }
   ],
   "source": [
    "idata.keys()"
   ]
  },
  {
   "cell_type": "code",
   "execution_count": 62,
   "metadata": {},
   "outputs": [
    {
     "name": "stdout",
     "output_type": "stream",
     "text": [
      "\u001b[1m1/1\u001b[0m \u001b[32m━━━━━━━━━━━━━━━━━━━━\u001b[0m\u001b[37m\u001b[0m \u001b[1m0s\u001b[0m 107ms/step\n"
     ]
    },
    {
     "data": {
      "text/plain": [
       "array([[0.00027057]], dtype=float32)"
      ]
     },
     "execution_count": 62,
     "metadata": {},
     "output_type": "execute_result"
    }
   ],
   "source": [
    "#predict churn\n",
    "pred = model.predict(df1)\n",
    "pred"
   ]
  },
  {
   "cell_type": "code",
   "execution_count": 63,
   "metadata": {},
   "outputs": [
    {
     "name": "stdout",
     "output_type": "stream",
     "text": [
      "not churn\n"
     ]
    }
   ],
   "source": [
    "if pred[0][0]>0.5:\n",
    "    print(\"churn\")\n",
    "else:\n",
    "    print(\"not churn\")"
   ]
  }
 ],
 "metadata": {
  "kernelspec": {
   "display_name": "myenv",
   "language": "python",
   "name": "python3"
  },
  "language_info": {
   "codemirror_mode": {
    "name": "ipython",
    "version": 3
   },
   "file_extension": ".py",
   "mimetype": "text/x-python",
   "name": "python",
   "nbconvert_exporter": "python",
   "pygments_lexer": "ipython3",
   "version": "3.11.0"
  }
 },
 "nbformat": 4,
 "nbformat_minor": 2
}
